{
 "cells": [
  {
   "cell_type": "code",
   "execution_count": 63,
   "metadata": {},
   "outputs": [],
   "source": [
    "import matplotlib.pyplot as plt\n",
    "from dataclasses import dataclass\n",
    "from utils import make_table, fazer_testes\n",
    "from time import time"
   ]
  },
  {
   "cell_type": "code",
   "execution_count": 64,
   "metadata": {},
   "outputs": [],
   "source": [
    "sizes = [100, 200, 500, 1000, 2000, 5000, 10000]\n",
    "\n",
    "@dataclass\n",
    "class Item:\n",
    "    valor: int\n",
    "    peso: int\n",
    "    is_otimo: bool\n",
    "\n",
    "    @property\n",
    "    def custo_beneficio(self):\n",
    "        return self.valor / self.peso\n",
    "\n",
    "BeneficioMaximo, Capacidade = int, int\n",
    "\n",
    "\n",
    "def get_data(cat: int, size: int) -> tuple[BeneficioMaximo, Capacidade, list[Item]]:\n",
    "    path = \"dataset/{}/knapPI_{}_{}_1000_1\"\n",
    "\n",
    "    with open(path.format(\"large_scale\", cat, size), \"r\") as f:\n",
    "        get_line_values = lambda: list(map(int, f.readline().split()))\n",
    "        # Pega o resultado ótimo\n",
    "        with open(path.format(\"large_scale-optimum\", cat, size), \"r\") as g:\n",
    "            beneficio_maximo = int(g.read())\n",
    "\n",
    "        # Primeira Linha: número de itens `n`e capacidade da mochila\n",
    "        n, capacidade = get_line_values()\n",
    "\n",
    "        # Próximas `n`linhas: valor e peso de cada item\n",
    "        valores, pesos = [list(i) for i in zip(*[get_line_values() for _ in range(n)])]\n",
    "\n",
    "        # Última linha: vetor de booleanos indicando quais itens compõe uma solução ótima\n",
    "        solucoes_otimas = get_line_values()\n",
    "\n",
    "        itens = [\n",
    "            Item(v, p, bool(otimo))\n",
    "            for v, p, otimo in zip(valores, pesos, solucoes_otimas)\n",
    "        ]\n",
    "\n",
    "    return beneficio_maximo, capacidade, itens\n"
   ]
  },
  {
   "cell_type": "markdown",
   "metadata": {},
   "source": [
    "### Analise do dataset"
   ]
  },
  {
   "cell_type": "code",
   "execution_count": 65,
   "metadata": {},
   "outputs": [
    {
     "data": {
      "image/png": "[encoded data removed]",
      "text/plain": [
       "<Figure size 1512x288 with 3 Axes>"
      ]
     },
     "metadata": {
      "needs_background": "light"
     },
     "output_type": "display_data"
    }
   ],
   "source": [
    "fig, ax = plt.subplots(1, 3, figsize=(21, 4))\n",
    "\n",
    "for cat in [1, 2, 3]:\n",
    "    itens = get_data(cat, size=100)[2]\n",
    "\n",
    "    valores = [i.valor for i in itens]\n",
    "    pesos = [i.peso for i in itens]\n",
    "\n",
    "    ax[cat - 1].scatter(valores, pesos)\n",
    "    ax[cat - 1].set_title(f\"Categoria {cat}\")\n"
   ]
  },
  {
   "cell_type": "markdown",
   "metadata": {},
   "source": [
    "### Abordagem Gulosa"
   ]
  },
  {
   "cell_type": "markdown",
   "metadata": {},
   "source": [
    "##### Priorizando o número de items a serem inseridos"
   ]
  },
  {
   "cell_type": "code",
   "execution_count": 66,
   "metadata": {},
   "outputs": [],
   "source": [
    "def perf_aprox_gulosa_max_numero_itens(categoria, size):\n",
    "    beneficio_maximo, capacidade, itens = get_data(categoria, size)\n",
    "\n",
    "    v, w = 0, 0\n",
    "\n",
    "    for item in sorted(itens, key=lambda i: i.peso):\n",
    "        if (w + item.peso) > capacidade:\n",
    "            break\n",
    "        w += item.peso\n",
    "        v += item.valor\n",
    "\n",
    "    desempenho = v / beneficio_maximo\n",
    "    return desempenho"
   ]
  },
  {
   "cell_type": "code",
   "execution_count": 44,
   "metadata": {},
   "outputs": [
    {
     "name": "stdout",
     "output_type": "stream",
     "text": [
      "Precisão do algoritmo comparado ao resultado ótimo (%)\n",
      "╒═════════════╤══════════╤══════════╤══════════╤══════════╤══════════╤══════════╤══════════╤══════════╕\n",
      "│             │   100    │   200    │   500    │   1000   │   2000   │   5000   │  10000   │  Média   │\n",
      "╞═════════════╪══════════╪══════════╪══════════╪══════════╪══════════╪══════════╪══════════╪══════════╡\n",
      "│ Categoria 1 │ 0.950366 │ 0.956042 │ 0.872821 │ 0.871897 │ 0.88367  │ 0.888087 │ 0.878992 │ 0.900268 │\n",
      "├─────────────┼──────────┼──────────┼──────────┼──────────┼──────────┼──────────┼──────────┼──────────┤\n",
      "│ Categoria 2 │ 0.569353 │ 0.638311 │ 0.680026 │ 0.679629 │ 0.663232 │ 0.630805 │ 0.654295 │ 0.645093 │\n",
      "├─────────────┼──────────┼──────────┼──────────┼──────────┼──────────┼──────────┼──────────┼──────────┤\n",
      "│ Categoria 3 │ 0.990822 │ 0.982202 │ 0.99733  │ 0.998888 │ 0.996819 │ 0.999186 │ 0.999789 │ 0.995005 │\n",
      "├─────────────┼──────────┼──────────┼──────────┼──────────┼──────────┼──────────┼──────────┼──────────┤\n",
      "│ Média       │ 0.836847 │ 0.858852 │ 0.850059 │ 0.850138 │ 0.847907 │ 0.83936  │ 0.844358 │ 0.846789 │\n",
      "╘═════════════╧══════════╧══════════╧══════════╧══════════╧══════════╧══════════╧══════════╧══════════╛\n",
      "Tempos de execução em segundos\n",
      "╒═════════════╤════════════╤═══════════╤═══════════╤═══════════╕\n",
      "│             │    2000    │   5000    │   10000   │   Média   │\n",
      "╞═════════════╪════════════╪═══════════╪═══════════╪═══════════╡\n",
      "│ Categoria 1 │ 0.00505614 │ 0.0150781 │ 0.124908  │ 0.0483473 │\n",
      "├─────────────┼────────────┼───────────┼───────────┼───────────┤\n",
      "│ Categoria 2 │ 0.00539136 │ 0.0134337 │ 0.0258734 │ 0.0148995 │\n",
      "├─────────────┼────────────┼───────────┼───────────┼───────────┤\n",
      "│ Categoria 3 │ 0.00482249 │ 0.0886555 │ 0.0273733 │ 0.0402838 │\n",
      "├─────────────┼────────────┼───────────┼───────────┼───────────┤\n",
      "│ Média       │  0.00509   │ 0.0390557 │ 0.0593848 │ 0.0345102 │\n",
      "╘═════════════╧════════════╧═══════════╧═══════════╧═══════════╛\n"
     ]
    }
   ],
   "source": [
    "results, times = fazer_testes(perf_aprox_gulosa_max_numero_itens, repeticoes=1)\n",
    "print(\"Precisão do algoritmo comparado ao resultado ótimo (%)\")\n",
    "make_table(results)\n",
    "\n",
    "print(\"Tempos de execução em segundos\")\n",
    "make_table(times)"
   ]
  },
  {
   "cell_type": "markdown",
   "metadata": {},
   "source": [
    "##### Priorizando os itens de melhor relação de benefício/custo"
   ]
  },
  {
   "cell_type": "code",
   "execution_count": 67,
   "metadata": {},
   "outputs": [],
   "source": [
    "def perf_aprox_gulosa_beneficio_custo(categoria, size):\n",
    "    beneficio_maximo, capacidade, itens = get_data(categoria, size)\n",
    "\n",
    "    v, w = 0, 0\n",
    "    for item in sorted(itens, key=lambda i: i.valor / i.peso, reverse=True):\n",
    "        if (w + item.peso) < capacidade:\n",
    "            w += item.peso\n",
    "            v += item.valor\n",
    "\n",
    "    desempenho = v / beneficio_maximo\n",
    "    return desempenho"
   ]
  },
  {
   "cell_type": "code",
   "execution_count": 68,
   "metadata": {},
   "outputs": [
    {
     "name": "stdout",
     "output_type": "stream",
     "text": [
      "Precisão do algoritmo comparado ao resultado ótimo (%)\n",
      "╒═════════════╤════════════╤═══════════╤═══════════╤═══════════╕\n",
      "│             │    2000    │   5000    │   10000   │   Média   │\n",
      "╞═════════════╪════════════╪═══════════╪═══════════╪═══════════╡\n",
      "│ Categoria 1 │ 0.00720835 │ 0.0141809 │ 0.0343387 │ 0.018576  │\n",
      "├─────────────┼────────────┼───────────┼───────────┼───────────┤\n",
      "│ Categoria 2 │ 0.00748229 │ 0.107033  │ 0.0271766 │ 0.0472308 │\n",
      "├─────────────┼────────────┼───────────┼───────────┼───────────┤\n",
      "│ Categoria 3 │ 0.00415468 │ 0.0127158 │ 0.103564  │ 0.0401448 │\n",
      "├─────────────┼────────────┼───────────┼───────────┼───────────┤\n",
      "│ Média       │ 0.00628177 │ 0.0446434 │ 0.0550265 │ 0.0353172 │\n",
      "╘═════════════╧════════════╧═══════════╧═══════════╧═══════════╛\n",
      "Tempos de execução em segundos\n",
      "╒═════════════╤══════════╤══════════╤══════════╤══════════╤══════════╤══════════╤══════════╤══════════╕\n",
      "│             │   100    │   200    │   500    │   1000   │   2000   │   5000   │  10000   │  Média   │\n",
      "╞═════════════╪══════════╪══════════╪══════════╪══════════╪══════════╪══════════╪══════════╪══════════╡\n",
      "│ Categoria 1 │ 0.963923 │ 0.999021 │ 0.999203 │ 0.997853 │ 0.999295 │ 0.999718 │ 0.999925 │ 0.994134 │\n",
      "├─────────────┼──────────┼──────────┼──────────┼──────────┼──────────┼──────────┼──────────┼──────────┤\n",
      "│ Categoria 2 │ 0.982166 │ 0.98164  │ 0.996934 │ 0.999337 │ 0.99928  │ 0.999865 │ 0.999945 │ 0.994167 │\n",
      "├─────────────┼──────────┼──────────┼──────────┼──────────┼──────────┼──────────┼──────────┼──────────┤\n",
      "│ Categoria 3 │ 0.990822 │ 0.982202 │ 0.99733  │ 0.998888 │ 0.996819 │ 0.999186 │ 0.999789 │ 0.995005 │\n",
      "├─────────────┼──────────┼──────────┼──────────┼──────────┼──────────┼──────────┼──────────┼──────────┤\n",
      "│ Média       │ 0.97897  │ 0.987621 │ 0.997822 │ 0.998693 │ 0.998464 │ 0.99959  │ 0.999886 │ 0.994435 │\n",
      "╘═════════════╧══════════╧══════════╧══════════╧══════════╧══════════╧══════════╧══════════╧══════════╛\n"
     ]
    }
   ],
   "source": [
    "results, times = fazer_testes(perf_aprox_gulosa_beneficio_custo, repeticoes=1)\n",
    "\n",
    "print(\"Precisão do algoritmo comparado ao resultado ótimo (%)\")\n",
    "make_table(results)\n",
    "\n",
    "print(\"Tempos de execução em segundos\")\n",
    "make_table(times)\n"
   ]
  },
  {
   "cell_type": "markdown",
   "metadata": {},
   "source": [
    "### Abordagem por Programação Dinâmica"
   ]
  },
  {
   "cell_type": "code",
   "execution_count": 59,
   "metadata": {},
   "outputs": [],
   "source": [
    "def abordagem_prog_dinamica(categoria, size):\n",
    "    beneficio_maximo, W, itens = get_data(categoria, size)\n",
    "    # array que guarda os resultados ótimos para mochilas de capacidade indo de 0 a W\n",
    "    mochilas = [0 for _ in range(W + 1)]\n",
    "\n",
    "    for item in itens:\n",
    "        # index do peso das mochilas anteriores que cabem na mochila\n",
    "        w_validos = [w for w in range(W) if item.peso + w <= W]\n",
    "\n",
    "        for w in w_validos:\n",
    "            mochilas[w] = max(mochilas[w], mochilas[w + item.peso] + item.valor)\n",
    "    return mochilas[0]"
   ]
  },
  {
   "cell_type": "code",
   "execution_count": 73,
   "metadata": {},
   "outputs": [],
   "source": [
    "from time import time\n",
    "\n",
    "tempos = []\n",
    "repeticoes = 1\n",
    "for size in sizes[:4]:\n",
    "    tempos_por_size = []\n",
    "    for _ in range(repeticoes):\n",
    "        start = time()\n",
    "        abordagem_prog_dinamica(3, size)\n",
    "        end = time()\n",
    "\n",
    "        tempos_por_size.append(end - start)\n",
    "    \n",
    "    tempos.append(sum(tempos_por_size)/repeticoes)\n",
    "\n",
    "\n"
   ]
  }
 ],
 "metadata": {
  "kernelspec": {
   "display_name": "Python 3.10.5 ('.venv': venv)",
   "language": "python",
   "name": "python3"
  },
  "language_info": {
   "codemirror_mode": {
    "name": "ipython",
    "version": 3
   },
   "file_extension": ".py",
   "mimetype": "text/x-python",
   "name": "python",
   "nbconvert_exporter": "python",
   "pygments_lexer": "ipython3",
   "version": "3.10.5"
  },
  "orig_nbformat": 4,
  "vscode": {
   "interpreter": {
    "hash": "c3f51beebfb0d3445d9389e9b025c56734b9ef9660b8064bfa68611e7b6397dd"
   }
  }
 },
 "nbformat": 4,
 "nbformat_minor": 2
}
