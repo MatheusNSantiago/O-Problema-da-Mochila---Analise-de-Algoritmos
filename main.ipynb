{
 "cells": [
  {
   "cell_type": "code",
   "execution_count": 2,
   "metadata": {},
   "outputs": [],
   "source": [
    "import matplotlib.pyplot as plt\n",
    "import numpy as np\n",
    "import pandas as pd\n",
    "from collections import namedtuple"
   ]
  },
  {
   "cell_type": "code",
   "execution_count": 3,
   "metadata": {},
   "outputs": [],
   "source": [
    "Dados = namedtuple(\"Dados\", ['w', 'otimo', 'tabela'])\n",
    "\n",
    "sizes = [100, 200, 500, 1000, 2000, 5000, 10000]\n",
    "def get_data(cat: int, size: int) -> Dados:\n",
    "    path = \"dataset/{}/knapPI_{}_{}_1000_1\"\n",
    "\n",
    "    with open(path.format(\"large_scale\", cat, size), \"r\") as f:\n",
    "        # Pega o resultado ótimo\n",
    "        with open(path.format(\"large_scale-optimum\", cat, size), \"r\") as g:\n",
    "            otimo = int(g.read())\n",
    "        \n",
    "        get_line_values = lambda : list(map(int, f.readline().split()))\n",
    "\n",
    "        # Primeira Linha: número de itens `n`e capacidade da mochila `w`\n",
    "        n, w = get_line_values()\n",
    "\n",
    "        # Próximas `n`linhas: valor e peso de cada item\n",
    "        valores = np.zeros(n, dtype=np.int32)\n",
    "        pesos = np.zeros(n, dtype=np.int32)\n",
    "\n",
    "        for i in range(n):\n",
    "            valores[i], pesos[i] = get_line_values()\n",
    "\n",
    "        # Última linha: vetor de booleanos indicando quais itens compõe uma solução ótima\n",
    "        solucao_otima = np.array(get_line_values(), dtype=np.bool8)\n",
    "\n",
    "        df = pd.DataFrame({\"valor\": valores, \"peso\": pesos, \"solucaoOtima\": solucao_otima})\n",
    "        \n",
    "        return Dados(w, otimo, df)"
   ]
  },
  {
   "cell_type": "markdown",
   "metadata": {},
   "source": [
    "### Abordagem Gulosa"
   ]
  },
  {
   "cell_type": "markdown",
   "metadata": {},
   "source": [
    "##### Priorizando o número de items a serem inseridos"
   ]
  },
  {
   "cell_type": "code",
   "execution_count": 4,
   "metadata": {},
   "outputs": [
    {
     "data": {
      "image/png": "[encoded data removed]",
      "text/plain": [
       "<Figure size 1512x288 with 3 Axes>"
      ]
     },
     "metadata": {
      "needs_background": "light"
     },
     "output_type": "display_data"
    }
   ],
   "source": [
    "fig, ax = plt.subplots(1, 3, figsize=(21, 4))\n",
    "\n",
    "for cat in [1, 2, 3]:\n",
    "    desempenho = []\n",
    "    for size in sizes:\n",
    "        w, otimo, df = get_data(cat, size)\n",
    "\n",
    "        cur_v = 0\n",
    "        cur_w = 0\n",
    "\n",
    "        for i, item in df.sort_values(by=\"peso\").iterrows():\n",
    "            if (cur_w + item.peso) > w:\n",
    "                break\n",
    "            cur_w += item.peso\n",
    "            cur_v += item.valor\n",
    "\n",
    "        desempenho.append(cur_v/otimo)\n",
    "\n",
    "\n",
    "    cv = ax[cat - 1]\n",
    "    cv.bar([*map(str, sizes)], desempenho)\n",
    "    cv.set_title(f\"Categoria {cat}\")\n",
    "    cv.set_ylim(0, 1)\n",
    "\n",
    "\n",
    "plt.show()\n"
   ]
  },
  {
   "cell_type": "markdown",
   "metadata": {},
   "source": [
    "##### Priorizando os itens de melhor relação de benefício/custo"
   ]
  },
  {
   "cell_type": "code",
   "execution_count": 5,
   "metadata": {},
   "outputs": [
    {
     "data": {
      "image/png": "[encoded data removed]",
      "text/plain": [
       "<Figure size 432x288 with 1 Axes>"
      ]
     },
     "metadata": {
      "needs_background": "light"
     },
     "output_type": "display_data"
    }
   ],
   "source": [
    "# fig, ax = plt.subplots(1, 3, figsize=(21, 4))\n",
    "fig, ax = plt.subplots()\n",
    "\n",
    "for cat in [1, 2, 3]:\n",
    "    desempenho = []\n",
    "    for size in sizes:\n",
    "        w, otimo, df = get_data(cat, size)\n",
    "        df[\"custoBeneficio\"] = df.valor / df.peso\n",
    "\n",
    "        cur_v = 0\n",
    "        cur_w = 0\n",
    "        for i, item in df.sort_values(by=\"custoBeneficio\", ascending=False).iterrows():\n",
    "            if (cur_w + item.peso) > w:\n",
    "                break\n",
    "            cur_w += item.peso\n",
    "            cur_v += item.valor\n",
    "\n",
    "        desempenho.append(cur_v / otimo)\n",
    "\n",
    "    # cv = ax[cat - 1]\n",
    "    # cv.bar([*map(str, sizes)], desempenho)\n",
    "\n",
    "    # cv.set_ylim(0, 1)\n",
    "    # cv.set_title(f\"Categoria {cat}\")\n",
    "    cv = ax\n",
    "    cv.plot([*map(str, sizes)], desempenho, label=f\"Categoria {cat}\")\n",
    "    cv.set_ylim(0, 1)\n",
    "\n",
    "plt.legend()\n",
    "plt.show()\n"
   ]
  },
  {
   "cell_type": "markdown",
   "metadata": {},
   "source": [
    "### Abordagem por Programação Dinâmica"
   ]
  },
  {
   "cell_type": "code",
   "execution_count": 29,
   "metadata": {},
   "outputs": [
    {
     "name": "stdout",
     "output_type": "stream",
     "text": [
      "11735 1514\n",
      "\n"
     ]
    }
   ],
   "source": [
    "capacidade, resultado_otimo, items = get_data(2, 100)\n",
    "items: pd.DataFrame = items.sort_values(\"peso\")\n",
    "\n",
    "\n",
    "sub_problemas = items.copy().valor\n",
    "for i in range(1, len(items)):\n",
    "    item_atual = items.iloc[i]\n",
    "\n",
    "    S = [\n",
    "        sub_problemas[j]\n",
    "        for j in range(i)\n",
    "        if (item_atual.peso + items[j].peso <= capacidade)\n",
    "    ]\n",
    "\n",
    "    sub_problemas[items.index[i]] += max(\n",
    "        [\n",
    "            sub_problemas[idx]\n",
    "            for idx, item in items.iloc[:i].iterrows()\n",
    "            if (item.peso + item_atual.peso <= capacidade)\n",
    "        ],\n",
    "        default=0,\n",
    "    )\n",
    "    # print([\n",
    "    # sub_problemas[idx]\n",
    "    # (idx, item.peso, sub_problemas[idx])\n",
    "    # for idx, item in items.iloc[:i].iterrows()\n",
    "    # if (item.peso + item_atual.peso <= capacidade)\n",
    "    # ])\n",
    "\n",
    "print(sub_problemas.max(), resultado_otimo)\n",
    "\n",
    "\"\"\" Item = namedtuple(\"Item\", [\"peso\", \"valor\"])\n",
    "items = [Item(*i) for i in [(14, 40), (5, 35), (28, 100), (7, 28)]]\n",
    "items.sort()\n",
    "\n",
    "# Cria subproblemas para cara item\n",
    "sub_problemas = {item: item.valor for item in items}\n",
    "\n",
    "for i in range(1, len(items)):\n",
    "    item_atual = items[i]\n",
    "\n",
    "    items_validos = [\n",
    "        item\n",
    "        for item in items[:i]  # pega os items mais leves que atual\n",
    "        if item.peso + item_atual.peso <= capacidade  # os items devem caber na mochila\n",
    "    ]\n",
    "\n",
    "    # Adiciona o resultado do subproblema atual.\n",
    "    # Nada mais é que o valor do item atual + o valor da melhor resposta do subproblema da iteração anterior\n",
    "    sub_problemas[item_atual] += max(sub_problemas[item] for item in items_validos)\n",
    " \"\"\"\n",
    "print()\n"
   ]
  }
 ],
 "metadata": {
  "interpreter": {
   "hash": "e7370f93d1d0cde622a1f8e1c04877d8463912d04d973331ad4851f04de6915a"
  },
  "kernelspec": {
   "display_name": "Python 3.10.5 64-bit",
   "language": "python",
   "name": "python3"
  },
  "language_info": {
   "codemirror_mode": {
    "name": "ipython",
    "version": 3
   },
   "file_extension": ".py",
   "mimetype": "text/x-python",
   "name": "python",
   "nbconvert_exporter": "python",
   "pygments_lexer": "ipython3",
   "version": "3.10.5"
  },
  "orig_nbformat": 4
 },
 "nbformat": 4,
 "nbformat_minor": 2
}
