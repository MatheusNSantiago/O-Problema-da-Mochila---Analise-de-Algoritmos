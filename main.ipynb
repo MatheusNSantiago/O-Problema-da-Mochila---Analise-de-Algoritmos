{
 "cells": [
  {
   "cell_type": "code",
   "execution_count": 328,
   "metadata": {},
   "outputs": [],
   "source": [
    "import matplotlib.pyplot as plt\n",
    "from dataclasses import dataclass\n",
    "from utils import make_table"
   ]
  },
  {
   "cell_type": "code",
   "execution_count": 329,
   "metadata": {},
   "outputs": [],
   "source": [
    "@dataclass\n",
    "class Item:\n",
    "    valor: int\n",
    "    peso: int\n",
    "    is_otimo: bool\n",
    "\n",
    "    @property\n",
    "    def custo_beneficio(self):\n",
    "        return self.valor / self.peso\n",
    "\n",
    "sizes = [100, 200, 500, 1000, 2000, 5000, 10000]\n",
    "\n",
    "BeneficioMaximo = int\n",
    "\n",
    "Capacidade = int\n",
    "\n",
    "\n",
    "def get_data(cat: int, size: int) -> tuple[BeneficioMaximo, Capacidade, list[Item]]:\n",
    "    path = \"dataset/{}/knapPI_{}_{}_1000_1\"\n",
    "\n",
    "    with open(path.format(\"large_scale\", cat, size), \"r\") as f:\n",
    "        get_line_values = lambda: list(map(int, f.readline().split()))\n",
    "        # Pega o resultado ótimo\n",
    "        with open(path.format(\"large_scale-optimum\", cat, size), \"r\") as g:\n",
    "            beneficio_maximo = int(g.read())\n",
    "\n",
    "        # Primeira Linha: número de itens `n`e capacidade da mochila\n",
    "        n, capacidade = get_line_values()\n",
    "\n",
    "        # Próximas `n`linhas: valor e peso de cada item\n",
    "        valores, pesos = [list(i) for i in zip(*[get_line_values() for _ in range(n)])]\n",
    "\n",
    "        # Última linha: vetor de booleanos indicando quais itens compõe uma solução ótima\n",
    "        solucoes_otimas = get_line_values()\n",
    "\n",
    "        itens = [\n",
    "            Item(v, p, bool(otimo))\n",
    "            for v, p, otimo in zip(valores, pesos, solucoes_otimas)\n",
    "        ]\n",
    "\n",
    "    return beneficio_maximo, capacidade, itens\n"
   ]
  },
  {
   "cell_type": "markdown",
   "metadata": {},
   "source": [
    "### Analise do dataset"
   ]
  },
  {
   "cell_type": "code",
   "execution_count": 331,
   "metadata": {},
   "outputs": [
    {
     "data": {
      "image/png": "[encoded data removed]",
      "text/plain": [
       "<Figure size 1512x288 with 3 Axes>"
      ]
     },
     "metadata": {
      "needs_background": "light"
     },
     "output_type": "display_data"
    }
   ],
   "source": [
    "fig, ax = plt.subplots(1, 3, figsize=(21, 4))\n",
    "\n",
    "for cat in [1, 2, 3]:\n",
    "    itens = get_data(cat, sizes[1])[2]\n",
    "    \n",
    "    valores = [i.valor for i in itens]\n",
    "    pesos = [i.peso for i in itens]\n",
    "    \n",
    "    ax[cat - 1].scatter(valores, pesos)\n",
    "    ax[cat - 1].set_title(f\"Categoria {cat}\")"
   ]
  },
  {
   "cell_type": "markdown",
   "metadata": {},
   "source": [
    "### Abordagem Gulosa"
   ]
  },
  {
   "cell_type": "markdown",
   "metadata": {},
   "source": [
    "##### Priorizando o número de items a serem inseridos"
   ]
  },
  {
   "cell_type": "code",
   "execution_count": 326,
   "metadata": {},
   "outputs": [
    {
     "name": "stdout",
     "output_type": "stream",
     "text": [
      "╒═════════════╤═════════╤═════════╤═════════╤═════════╤═════════╤═════════╤═════════╕\n",
      "│             │   100   │   200   │   500   │  1000   │  2000   │  5000   │  10000  │\n",
      "╞═════════════╪═════════╪═════════╪═════════╪═════════╪═════════╪═════════╪═════════╡\n",
      "│ Categoria 1 │ 0.95037 │ 0.95604 │ 0.87282 │ 0.8719  │ 0.88367 │ 0.88809 │ 0.87899 │\n",
      "├─────────────┼─────────┼─────────┼─────────┼─────────┼─────────┼─────────┼─────────┤\n",
      "│ Categoria 2 │ 0.56935 │ 0.63831 │ 0.68003 │ 0.67963 │ 0.66323 │ 0.63081 │ 0.65429 │\n",
      "├─────────────┼─────────┼─────────┼─────────┼─────────┼─────────┼─────────┼─────────┤\n",
      "│ Categoria 3 │ 0.99082 │ 0.9822  │ 0.99733 │ 0.99889 │ 0.99682 │ 0.99919 │ 0.99979 │\n",
      "╘═════════════╧═════════╧═════════╧═════════╧═════════╧═════════╧═════════╧═════════╛\n"
     ]
    }
   ],
   "source": [
    "res = {}\n",
    "for cat in [1, 2, 3]:\n",
    "    desempenho = []\n",
    "    for size in sizes:\n",
    "        beneficio_maximo, capacidade, itens = get_data(cat, size)\n",
    "\n",
    "        v, w = 0, 0\n",
    "\n",
    "        for item in sorted(itens, key=lambda i: i.peso):\n",
    "            if (w + item.peso) > capacidade:\n",
    "                break\n",
    "            w += item.peso\n",
    "            v += item.valor\n",
    "\n",
    "        desempenho = round(v / beneficio_maximo, 5)\n",
    "        res.setdefault(size, []).append(desempenho)\n",
    "\n",
    "make_table(res)"
   ]
  },
  {
   "cell_type": "markdown",
   "metadata": {},
   "source": [
    "##### Priorizando os itens de melhor relação de benefício/custo"
   ]
  },
  {
   "cell_type": "code",
   "execution_count": 325,
   "metadata": {},
   "outputs": [
    {
     "name": "stdout",
     "output_type": "stream",
     "text": [
      "╒═════════════╤══════════╤══════════╤══════════╤══════════╤══════════╤══════════╤══════════╕\n",
      "│             │   100    │   200    │   500    │   1000   │   2000   │   5000   │  10000   │\n",
      "╞═════════════╪══════════╪══════════╪══════════╪══════════╪══════════╪══════════╪══════════╡\n",
      "│ Categoria 1 │ 0.963923 │ 0.999021 │ 0.999203 │ 0.997853 │ 0.999295 │ 0.999718 │ 0.999925 │\n",
      "├─────────────┼──────────┼──────────┼──────────┼──────────┼──────────┼──────────┼──────────┤\n",
      "│ Categoria 2 │ 0.982166 │ 0.98164  │ 0.996934 │ 0.999337 │ 0.99928  │ 0.999865 │ 0.999945 │\n",
      "├─────────────┼──────────┼──────────┼──────────┼──────────┼──────────┼──────────┼──────────┤\n",
      "│ Categoria 3 │ 0.990822 │ 0.982202 │ 0.99733  │ 0.998888 │ 0.996819 │ 0.999186 │ 0.999789 │\n",
      "╘═════════════╧══════════╧══════════╧══════════╧══════════╧══════════╧══════════╧══════════╛\n"
     ]
    }
   ],
   "source": [
    "def perf_aprox_gulosa_beneficio_custo(categoria, size):\n",
    "    beneficio_maximo, capacidade, itens = get_data(categoria, size)\n",
    "\n",
    "    v, w = 0, 0\n",
    "    for item in sorted(itens, key=lambda i: i.valor / i.peso, reverse=True):\n",
    "        if (w + item.peso) < capacidade:\n",
    "            w += item.peso\n",
    "            v += item.valor\n",
    "\n",
    "    desempenho = v / beneficio_maximo\n",
    "    return desempenho\n",
    "\n",
    "\n",
    "from time import time\n",
    "\n",
    "\n",
    "def fazer_testes(funcao, repeticoes):\n",
    "    res = {}\n",
    "    tempos = {}\n",
    "\n",
    "    for i in range(repeticoes):\n",
    "        for cat in [1, 2, 3]:\n",
    "            for size in [100, 200, 500, 1000, 2000, 5000, 10000]:\n",
    "                start = time()\n",
    "                desempenho = funcao(cat, size)\n",
    "                end = time()\n",
    "\n",
    "                if i == 0:\n",
    "                    res.setdefault(size, []).append(desempenho)\n",
    "\n",
    "                # Guarda o tempo de execução dos 3 maiores sample sizes para cada categoria\n",
    "                if size in sizes[::-1][:3]:\n",
    "                    t = end - start\n",
    "\n",
    "                    tempos.setdefault(size, [0, 0, 0])\n",
    "                    tempos[size][cat - 1] = t\n",
    "\n",
    "    for ts in tempos.values():\n",
    "        for t in ts:\n",
    "            t = t / repeticoes\n",
    "\n",
    "    # make_table(tempos)\n",
    "    make_table(res)\n",
    "\n",
    "\n",
    "fazer_testes(perf_aprox_gulosa_beneficio_custo, repeticoes=4)\n",
    "from tabulate import tabulate\n",
    "\n",
    "# print(tabulate(tempo_exec, headers=\"keys\", tablefmt=\"fancy_grid\"))\n",
    "# print(tempo_exec)\n",
    "\n",
    "\n",
    "# print(\"Desempenho da aproximação usando o método guloso\")\n",
    "# make_table(res)\n"
   ]
  },
  {
   "cell_type": "markdown",
   "metadata": {},
   "source": [
    "### Abordagem por Programação Dinâmica"
   ]
  },
  {
   "cell_type": "code",
   "execution_count": 311,
   "metadata": {},
   "outputs": [],
   "source": [
    "beneficio_maximo, W, itens = get_data(1, sizes[4])\n",
    "\n",
    "# array que guarda os resultados ótimos para mochilas de capacidade indo de 0 a W\n",
    "mochilas = [0 for _ in range(W + 1)]\n",
    "\n",
    "for item in itens:\n",
    "    # index do peso das mochilas anteriores que cabem na mochila\n",
    "    w_validos = [w for w in range(W) if item.peso + w <= W]\n",
    "\n",
    "    for w in w_validos:\n",
    "        mochilas[w] = max(mochilas[w], mochilas[w + item.peso] + item.valor)\n"
   ]
  }
 ],
 "metadata": {
  "kernelspec": {
   "display_name": "Python 3.10.5 ('.venv': venv)",
   "language": "python",
   "name": "python3"
  },
  "language_info": {
   "codemirror_mode": {
    "name": "ipython",
    "version": 3
   },
   "file_extension": ".py",
   "mimetype": "text/x-python",
   "name": "python",
   "nbconvert_exporter": "python",
   "pygments_lexer": "ipython3",
   "version": "3.10.5"
  },
  "orig_nbformat": 4,
  "vscode": {
   "interpreter": {
    "hash": "c3f51beebfb0d3445d9389e9b025c56734b9ef9660b8064bfa68611e7b6397dd"
   }
  }
 },
 "nbformat": 4,
 "nbformat_minor": 2
}
